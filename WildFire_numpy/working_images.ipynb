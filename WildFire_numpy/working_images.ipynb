{
 "cells": [
  {
   "cell_type": "code",
   "execution_count": 1,
   "metadata": {},
   "outputs": [],
   "source": [
    "import numpy as np\n",
    "from scipy import misc\n",
    "import matplotlib.pyplot as plt"
   ]
  },
  {
   "cell_type": "code",
   "execution_count": 2,
   "metadata": {},
   "outputs": [
    {
     "name": "stdout",
     "output_type": "stream",
     "text": [
      "Using matplotlib backend: Qt5Agg\n"
     ]
    }
   ],
   "source": [
    "%matplotlib auto"
   ]
  },
  {
   "cell_type": "code",
   "execution_count": 3,
   "metadata": {},
   "outputs": [],
   "source": [
    "from skimage import data\n",
    "import imageio"
   ]
  },
  {
   "cell_type": "code",
   "execution_count": null,
   "metadata": {},
   "outputs": [],
   "source": [
    "photo_data = imageio.imread('sd-3layers.jpg')\n",
    "print(type(photo_data))"
   ]
  },
  {
   "cell_type": "code",
   "execution_count": null,
   "metadata": {},
   "outputs": [],
   "source": [
    "plt.figure()\n",
    "plt.imshow(photo_data)"
   ]
  },
  {
   "cell_type": "code",
   "execution_count": null,
   "metadata": {},
   "outputs": [],
   "source": [
    "# dimensions of the image\n",
    "print(photo_data.shape)\n",
    "#print(photo_data)\n"
   ]
  },
  {
   "cell_type": "code",
   "execution_count": null,
   "metadata": {},
   "outputs": [],
   "source": [
    "photo_data.size, photo_data.min(), photo_data.max()"
   ]
  },
  {
   "cell_type": "code",
   "execution_count": null,
   "metadata": {},
   "outputs": [],
   "source": [
    "# get the details of an individual pixel\n",
    "\n",
    "print(photo_data[150,250])\n",
    "print('R', photo_data[150,250, 0])\n",
    "print('G', photo_data[150,250, 1])\n",
    "print('B', photo_data[150,250, 2])"
   ]
  },
  {
   "cell_type": "code",
   "execution_count": null,
   "metadata": {},
   "outputs": [],
   "source": [
    "# change an individual pixel\n",
    "\n",
    "photo_data[150, 250] = 50\n",
    "plt.figure()\n",
    "plt.imshow(photo_data)"
   ]
  },
  {
   "cell_type": "code",
   "execution_count": null,
   "metadata": {},
   "outputs": [],
   "source": [
    "# change a range of pixels\n",
    "\n",
    "photo_data = imageio.imread('sd-3layers.jpg')\n",
    "photo_data[200:800, : , :] = 250\n",
    "plt.figure()\n",
    "plt.imshow(photo_data)"
   ]
  },
  {
   "cell_type": "code",
   "execution_count": null,
   "metadata": {},
   "outputs": [],
   "source": [
    "photo_data = imageio.imread('sd-3layers.jpg')\n",
    "photo_data = photo_data + 250\n",
    "plt.figure()\n",
    "plt.imshow(photo_data)"
   ]
  },
  {
   "cell_type": "code",
   "execution_count": null,
   "metadata": {},
   "outputs": [],
   "source": [
    "photo_data = imageio.imread('sd-3layers.jpg')\n",
    "plt.figure()\n",
    "plt.imshow(photo_data)\n",
    "\n",
    "low_value_filter = photo_data < 150\n",
    "\n",
    "\n",
    "print(photo_data.shape)\n",
    "print(photo_data[low_value_filter].shape)\n",
    "\n",
    "# to plot with the filter\n",
    "\n",
    "photo_data[low_value_filter] = 0\n",
    "plt.figure()\n",
    "plt.imshow(photo_data)\n",
    "\n"
   ]
  },
  {
   "cell_type": "code",
   "execution_count": null,
   "metadata": {},
   "outputs": [],
   "source": [
    "photo_data = imageio.imread('sd-3layers.jpg')\n",
    "rows_range = np.arange(len(photo_data))\n",
    "cols_range = np.arange(len(photo_data))\n",
    "print(rows_range.shape, type(rows_range))"
   ]
  },
  {
   "cell_type": "code",
   "execution_count": null,
   "metadata": {},
   "outputs": [],
   "source": [
    "photo_data[rows_range, cols_range, :] = 255\n",
    "plt.figure()\n",
    "plt.imshow(photo_data)"
   ]
  },
  {
   "cell_type": "markdown",
   "metadata": {},
   "source": [
    "<h1>Cutting out parts of an image, euclidian distance</h1>"
   ]
  },
  {
   "cell_type": "code",
   "execution_count": 22,
   "metadata": {},
   "outputs": [
    {
     "name": "stdout",
     "output_type": "stream",
     "text": [
      "(3725, 4797, 3)\n",
      "(3725, 1)\n",
      "[[   0]\n",
      " [   1]\n",
      " [   2]\n",
      " ...\n",
      " [3722]\n",
      " [3723]\n",
      " [3724]]\n",
      "(1, 4797)\n",
      "[[   0    1    2 ... 4794 4795 4796]]\n",
      "3\n"
     ]
    }
   ],
   "source": [
    "photo_data = imageio.imread('sd-3layers.jpg')\n",
    "total_rows, total_cols, total_layers = photo_data.shape\n",
    "\n",
    "# mesh grids\n",
    "x, y = np.ogrid[:total_rows, :total_cols]\n",
    "print(photo_data.shape)\n",
    "print(x.shape)\n",
    "print(x)\n",
    "print(y.shape)\n",
    "print(y)\n",
    "print(total_layers)"
   ]
  },
  {
   "cell_type": "code",
   "execution_count": 13,
   "metadata": {},
   "outputs": [
    {
     "name": "stdout",
     "output_type": "stream",
     "text": [
      "1862.5\n",
      "2398.5\n"
     ]
    }
   ],
   "source": [
    "center_row, center_col = total_rows / 2, total_cols / 2\n",
    "print(center_row)\n",
    "print(center_col)"
   ]
  },
  {
   "cell_type": "code",
   "execution_count": 20,
   "metadata": {},
   "outputs": [
    {
     "name": "stdout",
     "output_type": "stream",
     "text": [
      "(3725, 1)\n",
      "(1, 4797)\n",
      "[[9221708.5 9216912.5 9212118.5 ... 9207326.5 9212118.5 9216912.5]\n",
      " [9217984.5 9213188.5 9208394.5 ... 9203602.5 9208394.5 9213188.5]\n",
      " [9214262.5 9209466.5 9204672.5 ... 9199880.5 9204672.5 9209466.5]\n",
      " ...\n",
      " [9210542.5 9205746.5 9200952.5 ... 9196160.5 9200952.5 9205746.5]\n",
      " [9214262.5 9209466.5 9204672.5 ... 9199880.5 9204672.5 9209466.5]\n",
      " [9217984.5 9213188.5 9208394.5 ... 9203602.5 9208394.5 9213188.5]]\n",
      "\n",
      "3468906.25\n",
      "\n",
      "[[ True  True  True ...  True  True  True]\n",
      " [ True  True  True ...  True  True  True]\n",
      " [ True  True  True ...  True  True  True]\n",
      " ...\n",
      " [ True  True  True ...  True  True  True]\n",
      " [ True  True  True ...  True  True  True]\n",
      " [ True  True  True ...  True  True  True]]\n"
     ]
    }
   ],
   "source": [
    "print((x - center_row).shape)\n",
    "print((y - center_col).shape)\n",
    "\n",
    "dist_from_center = (x - center_row)**2 + (y - center_col)**2\n",
    "print(dist_from_center)\n",
    "print()\n",
    "radius = (total_rows / 2)**2\n",
    "print(radius)\n",
    "print()\n",
    "circular_mask = (dist_from_center > radius)\n",
    "print(circular_mask)"
   ]
  },
  {
   "cell_type": "code",
   "execution_count": 21,
   "metadata": {},
   "outputs": [
    {
     "data": {
      "text/plain": [
       "<matplotlib.image.AxesImage at 0x19a871d8518>"
      ]
     },
     "execution_count": 21,
     "metadata": {},
     "output_type": "execute_result"
    }
   ],
   "source": [
    "photo_data[circular_mask] = 0\n",
    "plt.figure()\n",
    "plt.imshow(photo_data)"
   ]
  },
  {
   "cell_type": "markdown",
   "metadata": {},
   "source": [
    "<h1>Masking a the bottom half of the image</h1>"
   ]
  },
  {
   "cell_type": "code",
   "execution_count": 24,
   "metadata": {},
   "outputs": [],
   "source": [
    "x, y  = np.ogrid[:total_rows, :total_cols]\n",
    "half_upper = x < center_row\n",
    "half_upper_mask = np.logical_and(half_upper, circular_mask)"
   ]
  },
  {
   "cell_type": "code",
   "execution_count": 25,
   "metadata": {},
   "outputs": [
    {
     "data": {
      "text/plain": [
       "<matplotlib.image.AxesImage at 0x19a8a5750b8>"
      ]
     },
     "execution_count": 25,
     "metadata": {},
     "output_type": "execute_result"
    }
   ],
   "source": [
    "photo_data = imageio.imread('sd-3layers.jpg')\n",
    "photo_data[half_upper_mask] = 255\n",
    "plt.figure()\n",
    "plt.imshow(photo_data)"
   ]
  },
  {
   "cell_type": "markdown",
   "metadata": {},
   "source": [
    "<h3>Showing items that have one strong color</h3>"
   ]
  },
  {
   "cell_type": "code",
   "execution_count": 34,
   "metadata": {},
   "outputs": [
    {
     "data": {
      "text/plain": [
       "<matplotlib.image.AxesImage at 0x19a8ee712e8>"
      ]
     },
     "execution_count": 34,
     "metadata": {},
     "output_type": "execute_result"
    }
   ],
   "source": [
    "photo_data = imageio.imread('sd-3layers.jpg')\n",
    "red_mask = photo_data[:,:,0] < 150\n",
    "\n",
    "# anything that has red < 150 will become 0\n",
    "photo_data[red_mask] = 0\n",
    "plt.figure()\n",
    "plt.imshow(photo_data)"
   ]
  },
  {
   "cell_type": "code",
   "execution_count": 28,
   "metadata": {},
   "outputs": [
    {
     "data": {
      "text/plain": [
       "Array([[ 0,  0, 19, ..., 19,  0,  0],\n",
       "       [30, 29, 25, ...,  1,  0,  0],\n",
       "       [23, 16, 15, ...,  0,  0,  0],\n",
       "       ...,\n",
       "       [ 2,  2,  2, ...,  2,  2,  2],\n",
       "       [ 2,  2,  2, ...,  2,  2,  2],\n",
       "       [ 2,  2,  2, ...,  2,  2,  2]], dtype=uint8)"
      ]
     },
     "execution_count": 28,
     "metadata": {},
     "output_type": "execute_result"
    }
   ],
   "source": [
    "photo_data[:,:,0]"
   ]
  },
  {
   "cell_type": "markdown",
   "metadata": {},
   "source": [
    "<h3>Mask on all three layers</h3>"
   ]
  },
  {
   "cell_type": "code",
   "execution_count": 38,
   "metadata": {},
   "outputs": [
    {
     "data": {
      "text/plain": [
       "<matplotlib.image.AxesImage at 0x19a8fbfaf98>"
      ]
     },
     "execution_count": 38,
     "metadata": {},
     "output_type": "execute_result"
    }
   ],
   "source": [
    "photo_data = imageio.imread('sd-3layers.jpg')\n",
    "\n",
    "red_mask = photo_data[:,:,0] > 150\n",
    "green_mask = photo_data[:,:,1] > 100\n",
    "blue_mask = photo_data[:,:,2] > 100\n",
    "\n",
    "final_mask = np.logical_and(red_mask, green_mask, blue_mask)\n",
    "photo_data[final_mask] = 255\n",
    "plt.figure()\n",
    "plt.imshow(photo_data)\n"
   ]
  },
  {
   "cell_type": "code",
   "execution_count": null,
   "metadata": {},
   "outputs": [],
   "source": []
  }
 ],
 "metadata": {
  "kernelspec": {
   "display_name": "Python 3",
   "language": "python",
   "name": "python3"
  },
  "language_info": {
   "codemirror_mode": {
    "name": "ipython",
    "version": 3
   },
   "file_extension": ".py",
   "mimetype": "text/x-python",
   "name": "python",
   "nbconvert_exporter": "python",
   "pygments_lexer": "ipython3",
   "version": "3.7.3"
  }
 },
 "nbformat": 4,
 "nbformat_minor": 2
}
