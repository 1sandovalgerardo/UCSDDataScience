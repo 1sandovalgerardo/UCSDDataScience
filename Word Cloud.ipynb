{
 "cells": [
  {
   "cell_type": "code",
   "execution_count": null,
   "metadata": {},
   "outputs": [],
   "source": [
    "\n",
    "    "
   ]
  },
  {
   "cell_type": "code",
   "execution_count": null,
   "metadata": {},
   "outputs": [],
   "source": [
    "def MultiReplace (text, remove, insert):\n",
    "    for item in remove:\n",
    "        if item in text:\n",
    "            text = text.replace(item, insert)\n",
    "    return text"
   ]
  },
  {
   "cell_type": "code",
   "execution_count": null,
   "metadata": {},
   "outputs": [],
   "source": [
    "word_list = []\n",
    "with open ('short.txt', 'r') as story:\n",
    "    content = story.read()\n",
    "    remove = [',', '.', ';', '(', ')', '\\'', '\\\"', '-', '!', '?', '_', ':']\n",
    "    replace = ''\n",
    "    content = MultiReplace(content, remove, replace)\n",
    "#    content = content.replace(',','')\n",
    "#    content = content.replace('.','')\n",
    "#    content = content.replace(';','')\n",
    "#    content = content.replace('(', '')\n",
    "    word_list = content.split()\n",
    "    print (word_list)"
   ]
  },
  {
   "cell_type": "code",
   "execution_count": null,
   "metadata": {},
   "outputs": [],
   "source": [
    "word_count = {}\n",
    "for word in word_list:\n",
    "    if word in word_count.keys():\n",
    "        word_count[word] += 1\n",
    "    else:\n",
    "        word_count[word] = 1"
   ]
  },
  {
   "cell_type": "code",
   "execution_count": null,
   "metadata": {},
   "outputs": [],
   "source": [
    "word_count"
   ]
  },
  {
   "cell_type": "code",
   "execution_count": null,
   "metadata": {},
   "outputs": [],
   "source": []
  }
 ],
 "metadata": {
  "kernelspec": {
   "display_name": "Python 3",
   "language": "python",
   "name": "python3"
  },
  "language_info": {
   "codemirror_mode": {
    "name": "ipython",
    "version": 3
   },
   "file_extension": ".py",
   "mimetype": "text/x-python",
   "name": "python",
   "nbconvert_exporter": "python",
   "pygments_lexer": "ipython3",
   "version": "3.7.3"
  }
 },
 "nbformat": 4,
 "nbformat_minor": 2
}
