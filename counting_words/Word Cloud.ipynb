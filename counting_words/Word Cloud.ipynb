{
 "cells": [
  {
   "cell_type": "code",
   "execution_count": 2,
   "metadata": {},
   "outputs": [],
   "source": [
    "from collections import Counter"
   ]
  },
  {
   "cell_type": "code",
   "execution_count": 3,
   "metadata": {},
   "outputs": [],
   "source": [
    "def MultiReplace (text, remove, insert):\n",
    "    for item in remove:\n",
    "        if item in text:\n",
    "            text = text.replace(item, insert)\n",
    "    return text"
   ]
  },
  {
   "cell_type": "code",
   "execution_count": 4,
   "metadata": {},
   "outputs": [],
   "source": [
    "word_list = []\n",
    "with open ('clean_text.txt', 'r') as story:\n",
    "    content = story.read().lower()\n",
    "    remove = [',', '.', ';', '(', ')', '\\'', '\\\"', '-', '!', '?', '_', ':', ' the ',\n",
    "              ' and ', ' a ', ' but ']\n",
    "    replace = ''\n",
    "    content = MultiReplace(content, remove, replace)\n",
    "    \n",
    "#    content = content.replace(',','')\n",
    "#    content = content.replace('.','')\n",
    "#    content = content.replace(';','')\n",
    "#    content = content.replace('(', '')\n",
    "\n",
    "    word_list = content.split()"
   ]
  },
  {
   "cell_type": "markdown",
   "metadata": {},
   "source": [
    "The next cell is how i instictively counted the words"
   ]
  },
  {
   "cell_type": "code",
   "execution_count": null,
   "metadata": {},
   "outputs": [],
   "source": [
    "word_count = {}\n",
    "for word in word_list:\n",
    "    if word in word_count:\n",
    "        word_count[word] += 1\n",
    "    else:\n",
    "        word_count[word] = 1"
   ]
  },
  {
   "cell_type": "markdown",
   "metadata": {},
   "source": [
    "An alternative is using Counter() from the python collections library.\n",
    "this is a new method to me."
   ]
  },
  {
   "cell_type": "code",
   "execution_count": 7,
   "metadata": {},
   "outputs": [
    {
     "name": "stdout",
     "output_type": "stream",
     "text": [
      "[('of', 2972), ('to', 2964), ('his', 1918), ('in', 1670), ('he', 1670), ('it', 1650), ('that', 1605), ('was', 1461), ('i', 1358), ('the', 1254), ('had', 1179), ('you', 1093), ('her', 936), ('as', 930), ('with', 887), ('him', 814), ('for', 720), ('not', 692), ('at', 687), ('be', 678)]\n"
     ]
    }
   ],
   "source": [
    "counted_words = Counter(word_list)\n",
    "print(counted_words.most_common(20))"
   ]
  },
  {
   "cell_type": "code",
   "execution_count": null,
   "metadata": {},
   "outputs": [],
   "source": []
  }
 ],
 "metadata": {
  "kernelspec": {
   "display_name": "Python 3",
   "language": "python",
   "name": "python3"
  },
  "language_info": {
   "codemirror_mode": {
    "name": "ipython",
    "version": 3
   },
   "file_extension": ".py",
   "mimetype": "text/x-python",
   "name": "python",
   "nbconvert_exporter": "python",
   "pygments_lexer": "ipython3",
   "version": "3.7.3"
  }
 },
 "nbformat": 4,
 "nbformat_minor": 2
}
