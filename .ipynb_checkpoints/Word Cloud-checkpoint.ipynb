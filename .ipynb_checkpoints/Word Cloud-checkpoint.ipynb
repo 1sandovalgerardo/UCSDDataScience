{
 "cells": [
  {
   "cell_type": "code",
   "execution_count": 11,
   "metadata": {},
   "outputs": [
    {
     "name": "stdout",
     "output_type": "stream",
     "text": [
      "['ï»¿Book', 'the', 'First--Recalled', 'to', 'Life', 'I', 'The', 'Period', 'It', 'was', 'the', 'best', 'of', 'times', 'it', 'was', 'the', 'worst', 'of', 'times', 'it', 'was', 'the', 'age', 'of', 'wisdom', 'it', 'was', 'the', 'age', 'of', 'foolishness', 'it', 'was', 'the', 'epoch', 'of', 'belief', 'it', 'was', 'the', 'epoch', 'of', 'incredulity', 'it', 'was', 'the', 'season', 'of', 'Light', 'it', 'was', 'the', 'season', 'of', 'Darkness', 'it', 'was', 'the', 'spring', 'of', 'hope', 'it', 'was', 'the', 'winter', 'of', 'despair', 'we', 'had', 'everything', 'before', 'us', 'we', 'had', 'nothing', 'before', 'us', 'we', 'were', 'all', 'going', 'direct', 'to', 'Heaven', 'we', 'were', 'all', 'going', 'direct', 'the', 'other', 'way--', 'in', 'short', 'the', 'period', 'was', 'so', 'far', 'like', 'the', 'present', 'period', 'that', 'some', 'of', 'its', 'noisiest', 'authorities', 'insisted', 'on', 'its', 'being', 'received', 'for', 'good', 'or', 'for', 'evil', 'in', 'the', 'superlative', 'degree', 'of', 'comparison', 'only', 'There', 'were', 'a', 'king', 'with', 'a', 'large', 'jaw', 'and', 'a', 'queen', 'with', 'a', 'plain', 'face', 'on', 'the', 'throne', 'of', 'England', 'there', 'were', 'a', 'king', 'with', 'a', 'large', 'jaw', 'and', 'a', 'queen', 'with', 'a', 'fair', 'face', 'on', 'the', 'throne', 'of', 'France', 'In', 'both', 'countries', 'it', 'was', 'clearer', 'than', 'crystal', 'to', 'the', 'lords', 'of', 'the', 'State', 'preserves', 'of', 'loaves', 'and', 'fishes', 'that', 'things', 'in', 'general', 'were', 'settled', 'for', 'ever', 'It', 'was', 'the', 'year', 'of', 'Our', 'Lord', 'one', 'thousand', 'seven', 'hundred', 'and', 'seventy-five', 'Spiritual', 'revelations', 'were', 'conceded', 'to', 'England', 'at', 'that', 'favoured', 'period', 'as', 'at', 'this', 'Mrs', 'Southcott', 'had', 'recently', 'attained', 'her', 'five-and-twentieth', 'blessed', 'birthday', 'of', 'whom', 'a', 'prophetic', 'private', 'in', 'the', 'Life', 'Guards', 'had', 'heralded', 'the', 'sublime', 'appearance', 'by', 'announcing', 'that', 'arrangements', 'were', 'made', 'for', 'the', 'swallowing', 'up', 'of', 'London', 'and', 'Westminster', 'Even', 'the', 'Cock-lane', 'ghost', 'had', 'been', 'laid', 'only', 'a', 'round', 'dozen', 'of', 'years', 'after', 'rapping', 'out', 'its', 'messages', 'as', 'the', 'spirits', 'of', 'this', 'very', 'year', 'last', 'past', 'supernaturally', 'deficient', 'in', 'originality)', 'rapped', 'out', 'theirs', 'Mere', 'messages', 'in', 'the', 'earthly', 'order', 'of', 'events', 'had', 'lately', 'come', 'to', 'the', 'English', 'Crown', 'and', 'People', 'from', 'a', 'congress', 'of', 'British', 'subjects', 'in', 'America:', 'which', 'strange', 'to', 'relate', 'have', 'proved', 'more', 'important', 'to', 'the', 'human', 'race', 'than', 'any', 'communications', 'yet', 'received', 'through', 'any', 'of', 'the', 'chickens', 'of', 'the', 'Cock-lane', 'brood']\n"
     ]
    }
   ],
   "source": [
    "with open ('short.txt', 'r') as story:\n",
    "    content = story.read()\n",
    "    remove = [',', '.', ';', '(', ')', '\\'', '\\\"', '-', '!', '?', '_', ':',]\n",
    "    content = content.replace(',','')\n",
    "    content = content.replace('.','')\n",
    "    content = content.replace(';','')\n",
    "    content = content.replace('(', '')\n",
    "    word_list = content.split()\n",
    "    print (word_list)\n",
    "    "
   ]
  },
  {
   "cell_type": "code",
   "execution_count": 13,
   "metadata": {},
   "outputs": [],
   "source": [
    "def MultiReplace (text, remove, insert):\n",
    "    for item in remove:\n",
    "        if item in text:\n",
    "            text = text.replace(remove, insert)\n",
    "            return text"
   ]
  },
  {
   "cell_type": "code",
   "execution_count": null,
   "metadata": {},
   "outputs": [],
   "source": []
  }
 ],
 "metadata": {
  "kernelspec": {
   "display_name": "Python 3",
   "language": "python",
   "name": "python3"
  },
  "language_info": {
   "codemirror_mode": {
    "name": "ipython",
    "version": 3
   },
   "file_extension": ".py",
   "mimetype": "text/x-python",
   "name": "python",
   "nbconvert_exporter": "python",
   "pygments_lexer": "ipython3",
   "version": "3.7.3"
  }
 },
 "nbformat": 4,
 "nbformat_minor": 2
}
